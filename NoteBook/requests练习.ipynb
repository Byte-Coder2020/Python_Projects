{
 "cells": [
  {
   "cell_type": "code",
   "id": "initial_id",
   "metadata": {
    "collapsed": true,
    "ExecuteTime": {
     "end_time": "2024-08-09T02:21:37.789011Z",
     "start_time": "2024-08-09T02:21:37.753962Z"
    }
   },
   "source": [
    "import requests\n",
    "\n",
    "url = \"http://www.baidu.com\"\n",
    "\n",
    "r = requests.get(url)\n",
    "# 手动指定response的编码格式\n",
    "# r.encoding = \"utf8\"\n",
    "\n",
    "print(r.text)"
   ],
   "outputs": [
    {
     "name": "stdout",
     "output_type": "stream",
     "text": [
      "<!DOCTYPE html>\r\n",
      "<!--STATUS OK--><html> <head><meta http-equiv=content-type content=text/html;charset=utf-8><meta http-equiv=X-UA-Compatible content=IE=Edge><meta content=always name=referrer><link rel=stylesheet type=text/css href=http://s1.bdstatic.com/r/www/cache/bdorz/baidu.min.css><title>ç¾åº¦ä¸ä¸ï¼ä½ å°±ç¥é</title></head> <body link=#0000cc> <div id=wrapper> <div id=head> <div class=head_wrapper> <div class=s_form> <div class=s_form_wrapper> <div id=lg> <img hidefocus=true src=//www.baidu.com/img/bd_logo1.png width=270 height=129> </div> <form id=form name=f action=//www.baidu.com/s class=fm> <input type=hidden name=bdorz_come value=1> <input type=hidden name=ie value=utf-8> <input type=hidden name=f value=8> <input type=hidden name=rsv_bp value=1> <input type=hidden name=rsv_idx value=1> <input type=hidden name=tn value=baidu><span class=\"bg s_ipt_wr\"><input id=kw name=wd class=s_ipt value maxlength=255 autocomplete=off autofocus></span><span class=\"bg s_btn_wr\"><input type=submit id=su value=ç¾åº¦ä¸ä¸ class=\"bg s_btn\"></span> </form> </div> </div> <div id=u1> <a href=http://news.baidu.com name=tj_trnews class=mnav>æ°é»</a> <a href=http://www.hao123.com name=tj_trhao123 class=mnav>hao123</a> <a href=http://map.baidu.com name=tj_trmap class=mnav>å°å¾</a> <a href=http://v.baidu.com name=tj_trvideo class=mnav>è§é¢</a> <a href=http://tieba.baidu.com name=tj_trtieba class=mnav>è´´å§</a> <noscript> <a href=http://www.baidu.com/bdorz/login.gif?login&amp;tpl=mn&amp;u=http%3A%2F%2Fwww.baidu.com%2f%3fbdorz_come%3d1 name=tj_login class=lb>ç»å½</a> </noscript> <script>document.write('<a href=\"http://www.baidu.com/bdorz/login.gif?login&tpl=mn&u='+ encodeURIComponent(window.location.href+ (window.location.search === \"\" ? \"?\" : \"&\")+ \"bdorz_come=1\")+ '\" name=\"tj_login\" class=\"lb\">ç»å½</a>');</script> <a href=//www.baidu.com/more/ name=tj_briicon class=bri style=\"display: block;\">æ´å¤äº§å</a> </div> </div> </div> <div id=ftCon> <div id=ftConw> <p id=lh> <a href=http://home.baidu.com>å³äºç¾åº¦</a> <a href=http://ir.baidu.com>About Baidu</a> </p> <p id=cp>&copy;2017&nbsp;Baidu&nbsp;<a href=http://www.baidu.com/duty/>ä½¿ç¨ç¾åº¦åå¿è¯»</a>&nbsp; <a href=http://jianyi.baidu.com/ class=cp-feedback>æè§åé¦</a>&nbsp;äº¬ICPè¯030173å·&nbsp; <img src=//www.baidu.com/img/gs.gif> </p> </div> </div> </div> </body> </html>\r\n",
      "\n"
     ]
    }
   ],
   "execution_count": 8
  },
  {
   "metadata": {
    "ExecuteTime": {
     "end_time": "2024-08-09T02:30:43.972751Z",
     "start_time": "2024-08-09T02:30:43.969619Z"
    }
   },
   "cell_type": "code",
   "source": "print(r.content.decode())",
   "id": "fab2d859869674a5",
   "outputs": [
    {
     "name": "stdout",
     "output_type": "stream",
     "text": [
      "<!DOCTYPE html>\r\n",
      "<!--STATUS OK--><html> <head><meta http-equiv=content-type content=text/html;charset=utf-8><meta http-equiv=X-UA-Compatible content=IE=Edge><meta content=always name=referrer><link rel=stylesheet type=text/css href=http://s1.bdstatic.com/r/www/cache/bdorz/baidu.min.css><title>百度一下，你就知道</title></head> <body link=#0000cc> <div id=wrapper> <div id=head> <div class=head_wrapper> <div class=s_form> <div class=s_form_wrapper> <div id=lg> <img hidefocus=true src=//www.baidu.com/img/bd_logo1.png width=270 height=129> </div> <form id=form name=f action=//www.baidu.com/s class=fm> <input type=hidden name=bdorz_come value=1> <input type=hidden name=ie value=utf-8> <input type=hidden name=f value=8> <input type=hidden name=rsv_bp value=1> <input type=hidden name=rsv_idx value=1> <input type=hidden name=tn value=baidu><span class=\"bg s_ipt_wr\"><input id=kw name=wd class=s_ipt value maxlength=255 autocomplete=off autofocus></span><span class=\"bg s_btn_wr\"><input type=submit id=su value=百度一下 class=\"bg s_btn\"></span> </form> </div> </div> <div id=u1> <a href=http://news.baidu.com name=tj_trnews class=mnav>新闻</a> <a href=http://www.hao123.com name=tj_trhao123 class=mnav>hao123</a> <a href=http://map.baidu.com name=tj_trmap class=mnav>地图</a> <a href=http://v.baidu.com name=tj_trvideo class=mnav>视频</a> <a href=http://tieba.baidu.com name=tj_trtieba class=mnav>贴吧</a> <noscript> <a href=http://www.baidu.com/bdorz/login.gif?login&amp;tpl=mn&amp;u=http%3A%2F%2Fwww.baidu.com%2f%3fbdorz_come%3d1 name=tj_login class=lb>登录</a> </noscript> <script>document.write('<a href=\"http://www.baidu.com/bdorz/login.gif?login&tpl=mn&u='+ encodeURIComponent(window.location.href+ (window.location.search === \"\" ? \"?\" : \"&\")+ \"bdorz_come=1\")+ '\" name=\"tj_login\" class=\"lb\">登录</a>');</script> <a href=//www.baidu.com/more/ name=tj_briicon class=bri style=\"display: block;\">更多产品</a> </div> </div> </div> <div id=ftCon> <div id=ftConw> <p id=lh> <a href=http://home.baidu.com>关于百度</a> <a href=http://ir.baidu.com>About Baidu</a> </p> <p id=cp>&copy;2017&nbsp;Baidu&nbsp;<a href=http://www.baidu.com/duty/>使用百度前必读</a>&nbsp; <a href=http://jianyi.baidu.com/ class=cp-feedback>意见反馈</a>&nbsp;京ICP证030173号&nbsp; <img src=//www.baidu.com/img/gs.gif> </p> </div> </div> </div> </body> </html>\r\n",
      "\n"
     ]
    }
   ],
   "execution_count": 12
  },
  {
   "metadata": {
    "ExecuteTime": {
     "end_time": "2024-08-09T02:31:06.690881Z",
     "start_time": "2024-08-09T02:31:06.685895Z"
    }
   },
   "cell_type": "code",
   "source": "r.url",
   "id": "144ec7610ea59ee3",
   "outputs": [
    {
     "data": {
      "text/plain": [
       "'http://www.baidu.com/'"
      ]
     },
     "execution_count": 13,
     "metadata": {},
     "output_type": "execute_result"
    }
   ],
   "execution_count": 13
  },
  {
   "metadata": {
    "ExecuteTime": {
     "end_time": "2024-08-09T02:31:21.998002Z",
     "start_time": "2024-08-09T02:31:21.993699Z"
    }
   },
   "cell_type": "code",
   "source": "r.cookies",
   "id": "101373bea0d9f032",
   "outputs": [
    {
     "data": {
      "text/plain": [
       "<RequestsCookieJar[Cookie(version=0, name='BDORZ', value='27315', port=None, port_specified=False, domain='.baidu.com', domain_specified=True, domain_initial_dot=True, path='/', path_specified=True, secure=False, expires=1723256497, discard=False, comment=None, comment_url=None, rest={}, rfc2109=False)]>"
      ]
     },
     "execution_count": 14,
     "metadata": {},
     "output_type": "execute_result"
    }
   ],
   "execution_count": 14
  },
  {
   "metadata": {
    "ExecuteTime": {
     "end_time": "2024-08-09T02:38:43.457827Z",
     "start_time": "2024-08-09T02:38:43.453064Z"
    }
   },
   "cell_type": "code",
   "source": "r.request.headers",
   "id": "91975f2ccc850224",
   "outputs": [
    {
     "data": {
      "text/plain": [
       "{'User-Agent': 'python-requests/2.32.2', 'Accept-Encoding': 'gzip, deflate, br', 'Accept': '*/*', 'Connection': 'keep-alive'}"
      ]
     },
     "execution_count": 15,
     "metadata": {},
     "output_type": "execute_result"
    }
   ],
   "execution_count": 15
  },
  {
   "metadata": {
    "ExecuteTime": {
     "end_time": "2024-08-09T02:39:11.690901Z",
     "start_time": "2024-08-09T02:39:11.686403Z"
    }
   },
   "cell_type": "code",
   "source": "r.headers",
   "id": "f6b0f9fd390e6319",
   "outputs": [
    {
     "data": {
      "text/plain": [
       "{'Connection': 'close', 'Transfer-Encoding': 'chunked', 'Cache-Control': 'private, no-cache, no-store, proxy-revalidate, no-transform', 'Content-Encoding': 'gzip', 'Content-Type': 'text/html', 'Date': 'Fri, 09 Aug 2024 02:21:35 GMT', 'Last-Modified': 'Mon, 23 Jan 2017 13:27:29 GMT', 'Pragma': 'no-cache', 'Server': 'bfe/1.0.8.18', 'Set-Cookie': 'BDORZ=27315; max-age=86400; domain=.baidu.com; path=/'}"
      ]
     },
     "execution_count": 16,
     "metadata": {},
     "output_type": "execute_result"
    }
   ],
   "execution_count": 16
  },
  {
   "metadata": {
    "ExecuteTime": {
     "end_time": "2024-08-09T03:04:20.458656Z",
     "start_time": "2024-08-09T03:04:20.454183Z"
    }
   },
   "cell_type": "code",
   "source": "r.status_code",
   "id": "9e2e72e47fa11cec",
   "outputs": [
    {
     "data": {
      "text/plain": [
       "200"
      ]
     },
     "execution_count": 21,
     "metadata": {},
     "output_type": "execute_result"
    }
   ],
   "execution_count": 21
  },
  {
   "metadata": {
    "ExecuteTime": {
     "end_time": "2024-08-09T05:05:36.203513Z",
     "start_time": "2024-08-09T05:05:36.122611Z"
    }
   },
   "cell_type": "code",
   "source": [
    "headers = {\n",
    "    \"user-agent\":\n",
    "        \"Mozilla/5.0 (Windows NT 10.0; Win64; x64) AppleWebKit/537.36 (KHTML, like Gecko) Chrome/127.0.0.0 Safari/537.36\"\n",
    "}\n",
    "\n",
    "r1 = requests.get(url, headers=headers)\n",
    "len(r1.content.decode())"
   ],
   "id": "a5cd2495babb6933",
   "outputs": [
    {
     "data": {
      "text/plain": [
       "402069"
      ]
     },
     "execution_count": 25,
     "metadata": {},
     "output_type": "execute_result"
    }
   ],
   "execution_count": 25
  },
  {
   "metadata": {
    "ExecuteTime": {
     "end_time": "2024-08-09T05:17:27.813136Z",
     "start_time": "2024-08-09T05:17:26.826939Z"
    }
   },
   "cell_type": "code",
   "source": [
    "# 直接在url添加请求参数\n",
    "url2 = 'https://www.baidu.com/s?wd=辅导'\n",
    "r2 = requests.get(url2, headers=headers)\n",
    "with open(\"baidu.html\", \"wb\") as file:\n",
    "    file.write(r2.content)"
   ],
   "id": "6feb6c55b2c478a",
   "outputs": [],
   "execution_count": 30
  },
  {
   "metadata": {
    "ExecuteTime": {
     "end_time": "2024-08-09T05:22:23.643303Z",
     "start_time": "2024-08-09T05:22:22.868850Z"
    }
   },
   "cell_type": "code",
   "source": [
    "# 构建params 参数,/s后面有没有参数都一样\n",
    "url3 = \"https://www.baidu.com/s\"\n",
    "kw = {\"wd\": \"python\"}\n",
    "r3 = requests.get(url3, headers=headers, params=kw)\n",
    "len(r3.content)"
   ],
   "id": "300f71d74372507f",
   "outputs": [
    {
     "data": {
      "text/plain": [
       "1299622"
      ]
     },
     "execution_count": 37,
     "metadata": {},
     "output_type": "execute_result"
    }
   ],
   "execution_count": 37
  },
  {
   "metadata": {
    "ExecuteTime": {
     "end_time": "2024-08-09T09:01:54.345109Z",
     "start_time": "2024-08-09T09:01:53.273749Z"
    }
   },
   "cell_type": "code",
   "source": [
    "url_github = \"https://github.com/Byte-Coder2020\"\n",
    "\n",
    "# 构造请求头\n",
    "headers2 = {\n",
    "    \"User-Agent\": \"Mozilla/5.0 (Windows NT 10.0; Win64; x64) AppleWebKit/537.36 (KHTML, like Gecko) Chrome/127.0.0.0 Safari/537.36\",\n",
    "    # \"Cookie\": \"_octo=GH1.1.819996118.1721038184; _device_id=86d896b26474247a512823f6b84d188b; saved_user_sessions=61932418%3A5w4DLMQdOvnORxgYQYlmTyixyXtFhAg7_ruLSlWmGC1hZ35E; user_session=5w4DLMQdOvnORxgYQYlmTyixyXtFhAg7_ruLSlWmGC1hZ35E; __Host-user_session_same_site=5w4DLMQdOvnORxgYQYlmTyixyXtFhAg7_ruLSlWmGC1hZ35E; logged_in=yes; dotcom_user=Byte-Coder2020; color_mode=%7B%22color_mode%22%3A%22light%22%2C%22light_theme%22%3A%7B%22name%22%3A%22light%22%2C%22color_mode%22%3A%22light%22%7D%2C%22dark_theme%22%3A%7B%22name%22%3A%22dark%22%2C%22color_mode%22%3A%22dark%22%7D%7D; preferred_color_mode=light; tz=Asia%2FShanghai; _gh_sess=ioC8HcXKzC5L%2F%2BUzIM5TgO7m4T%2BrkpRvOeeo9TVMUqzqZ4iFloW96VmxwTp%2BbqUkTUCO3qQ2JsZci5KNGOcCDF9yR2fUszBn594neazOwfVcpGxAvI3gwTFh067ODza7rZpD3onMwV5zKmxqbTNfSmpaF7rwgRN9E%2FxngHgTIh9eWcAdT8xM8iey%2Ft7mwJGKPFJ2BDYb7UBtRHFZ5nLUgHWnFrjYrRCwgk6tGwwUSq2QzFaDZHcCotdnCx6TJfY8n3H5BAKFyKaywtCNAu8%2FokFFR1sxExEtnRWhYeyaQ359JY4FYVmSUfzQKbWFGBJ5QZsaq4Mi1ua6TbY5zOdz1HRcIjr0ZqbYAieR0dI9U61y7vFg5n6TyCD2AFP2FiiF0FuqbsOcz6IbQ7m1%2FiguH0t4ELw%3D--6mWhAs3V7bI19jTq--b1fNzYhbSzmEMlgc30kH8Q%3D%3D\",\n",
    "}\n",
    "\n",
    "r4 = requests.get(url_github, headers=headers2)\n",
    "\n",
    "with open(\"github_with_no_cookie.html\", \"wb\") as f:\n",
    "    f.write(r4.content)"
   ],
   "id": "81fc0473daa3ca7e",
   "outputs": [],
   "execution_count": 38
  },
  {
   "metadata": {
    "ExecuteTime": {
     "end_time": "2024-08-09T09:29:54.331292Z",
     "start_time": "2024-08-09T09:29:53.454914Z"
    }
   },
   "cell_type": "code",
   "source": [
    "cookies_list = \"_octo=GH1.1.819996118.1721038184; _device_id=86d896b26474247a512823f6b84d188b; saved_user_sessions=61932418%3A5w4DLMQdOvnORxgYQYlmTyixyXtFhAg7_ruLSlWmGC1hZ35E; user_session=5w4DLMQdOvnORxgYQYlmTyixyXtFhAg7_ruLSlWmGC1hZ35E; __Host-user_session_same_site=5w4DLMQdOvnORxgYQYlmTyixyXtFhAg7_ruLSlWmGC1hZ35E; logged_in=yes; dotcom_user=Byte-Coder2020; color_mode=%7B%22color_mode%22%3A%22light%22%2C%22light_theme%22%3A%7B%22name%22%3A%22light%22%2C%22color_mode%22%3A%22light%22%7D%2C%22dark_theme%22%3A%7B%22name%22%3A%22dark%22%2C%22color_mode%22%3A%22dark%22%7D%7D; preferred_color_mode=light; tz=Asia%2FShanghai; _gh_sess=ioC8HcXKzC5L%2F%2BUzIM5TgO7m4T%2BrkpRvOeeo9TVMUqzqZ4iFloW96VmxwTp%2BbqUkTUCO3qQ2JsZci5KNGOcCDF9yR2fUszBn594neazOwfVcpGxAvI3gwTFh067ODza7rZpD3onMwV5zKmxqbTNfSmpaF7rwgRN9E%2FxngHgTIh9eWcAdT8xM8iey%2Ft7mwJGKPFJ2BDYb7UBtRHFZ5nLUgHWnFrjYrRCwgk6tGwwUSq2QzFaDZHcCotdnCx6TJfY8n3H5BAKFyKaywtCNAu8%2FokFFR1sxExEtnRWhYeyaQ359JY4FYVmSUfzQKbWFGBJ5QZsaq4Mi1ua6TbY5zOdz1HRcIjr0ZqbYAieR0dI9U61y7vFg5n6TyCD2AFP2FiiF0FuqbsOcz6IbQ7m1%2FiguH0t4ELw%3D--6mWhAs3V7bI19jTq--b1fNzYhbSzmEMlgc30kH8Q%3D%3D\".split(\"; \")\n",
    "cookies = {cookie.split(\"=\")[0]: cookie.split(\"=\")[-1] for cookie in cookies_list}\n",
    "r4 = requests.get(url_github, headers=headers2, cookies=cookies)\n",
    "with open(\"github_with_cookie2.html\", \"wb\") as f2:\n",
    "    f2.write(r4.content)"
   ],
   "id": "32216330164821d6",
   "outputs": [],
   "execution_count": 40
  },
  {
   "metadata": {
    "ExecuteTime": {
     "end_time": "2024-08-09T09:45:13.173525Z",
     "start_time": "2024-08-09T09:45:13.123541Z"
    }
   },
   "cell_type": "code",
   "source": [
    "url_bd = \"https://www.baidu.com/\"\n",
    "\n",
    "r5 = requests.get(url_bd)\n",
    "\n",
    "cookies_dict = requests.utils.dict_from_cookiejar(r5.cookies)\n",
    "cookies_dict\n",
    "\n",
    "cookies_jar = requests.utils.cookiejar_from_dict(cookies)\n",
    "print(cookies_jar)"
   ],
   "id": "cbc32d1b7bf0778",
   "outputs": [
    {
     "name": "stdout",
     "output_type": "stream",
     "text": [
      "<RequestsCookieJar[<Cookie _octo=GH1.1.819996118.1721038184 for />, <Cookie _device_id=86d896b26474247a512823f6b84d188b for />, <Cookie saved_user_sessions=61932418%3A5w4DLMQdOvnORxgYQYlmTyixyXtFhAg7_ruLSlWmGC1hZ35E for />, <Cookie user_session=5w4DLMQdOvnORxgYQYlmTyixyXtFhAg7_ruLSlWmGC1hZ35E for />, <Cookie __Host-user_session_same_site=5w4DLMQdOvnORxgYQYlmTyixyXtFhAg7_ruLSlWmGC1hZ35E for />, <Cookie logged_in=yes for />, <Cookie dotcom_user=Byte-Coder2020 for />, <Cookie color_mode=%7B%22color_mode%22%3A%22light%22%2C%22light_theme%22%3A%7B%22name%22%3A%22light%22%2C%22color_mode%22%3A%22light%22%7D%2C%22dark_theme%22%3A%7B%22name%22%3A%22dark%22%2C%22color_mode%22%3A%22dark%22%7D%7D for />, <Cookie preferred_color_mode=light for />, <Cookie tz=Asia%2FShanghai for />, <Cookie _gh_sess=ioC8HcXKzC5L%2F%2BUzIM5TgO7m4T%2BrkpRvOeeo9TVMUqzqZ4iFloW96VmxwTp%2BbqUkTUCO3qQ2JsZci5KNGOcCDF9yR2fUszBn594neazOwfVcpGxAvI3gwTFh067ODza7rZpD3onMwV5zKmxqbTNfSmpaF7rwgRN9E%2FxngHgTIh9eWcAdT8xM8iey%2Ft7mwJGKPFJ2BDYb7UBtRHFZ5nLUgHWnFrjYrRCwgk6tGwwUSq2QzFaDZHcCotdnCx6TJfY8n3H5BAKFyKaywtCNAu8%2FokFFR1sxExEtnRWhYeyaQ359JY4FYVmSUfzQKbWFGBJ5QZsaq4Mi1ua6TbY5zOdz1HRcIjr0ZqbYAieR0dI9U61y7vFg5n6TyCD2AFP2FiiF0FuqbsOcz6IbQ7m1%2FiguH0t4ELw%3D--6mWhAs3V7bI19jTq--b1fNzYhbSzmEMlgc30kH8Q%3D%3D for />]>\n"
     ]
    }
   ],
   "execution_count": 44
  },
  {
   "metadata": {
    "ExecuteTime": {
     "end_time": "2024-08-09T09:51:17.585740Z",
     "start_time": "2024-08-09T09:51:16.043412Z"
    }
   },
   "cell_type": "code",
   "source": [
    "url_tw = \"http://www.twitter.com\"\n",
    "\n",
    "r6 = requests.get(url_tw,timeout=3)\n",
    "len(r6.content.decode())"
   ],
   "id": "2b8764b8678aa97",
   "outputs": [
    {
     "data": {
      "text/plain": [
       "2610"
      ]
     },
     "execution_count": 49,
     "metadata": {},
     "output_type": "execute_result"
    }
   ],
   "execution_count": 49
  },
  {
   "metadata": {
    "ExecuteTime": {
     "end_time": "2024-08-09T11:19:54.405500Z",
     "start_time": "2024-08-09T11:19:54.351267Z"
    }
   },
   "cell_type": "code",
   "source": [
    "proxys = {\n",
    "    \"http\": \"http://8.219.97.248/80\",\n",
    "}\n",
    "r7 = requests.get(url, proxies=proxys)\n",
    "r7.content.decode()"
   ],
   "id": "9542adb2e9d38c2e",
   "outputs": [
    {
     "data": {
      "text/plain": [
       "'<html>\\r\\n<head>\\r\\n\\t<script>\\r\\n\\t\\tlocation.replace(location.href.replace(\"https://\",\"http://\"));\\r\\n\\t</script>\\r\\n</head>\\r\\n<body>\\r\\n\\t<noscript><meta http-equiv=\"refresh\" content=\"0;url=http://www.baidu.com/\"></noscript>\\r\\n</body>\\r\\n</html>'"
      ]
     },
     "execution_count": 54,
     "metadata": {},
     "output_type": "execute_result"
    }
   ],
   "execution_count": 54
  },
  {
   "metadata": {},
   "cell_type": "code",
   "outputs": [],
   "execution_count": null,
   "source": "",
   "id": "19de1c7306bfc497"
  }
 ],
 "metadata": {
  "kernelspec": {
   "display_name": "Python 3",
   "language": "python",
   "name": "python3"
  },
  "language_info": {
   "codemirror_mode": {
    "name": "ipython",
    "version": 2
   },
   "file_extension": ".py",
   "mimetype": "text/x-python",
   "name": "python",
   "nbconvert_exporter": "python",
   "pygments_lexer": "ipython2",
   "version": "2.7.6"
  }
 },
 "nbformat": 4,
 "nbformat_minor": 5
}
